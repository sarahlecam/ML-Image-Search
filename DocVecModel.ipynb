{
 "cells": [
  {
   "cell_type": "code",
   "execution_count": null,
   "metadata": {},
   "outputs": [
    {
     "name": "stdout",
     "output_type": "stream",
     "text": [
      "100\n",
      "200\n",
      "300\n",
      "400\n",
      "500\n",
      "600\n",
      "700\n",
      "800\n",
      "900\n",
      "1000\n",
      "1100\n",
      "1200\n",
      "1300\n",
      "1400\n",
      "1500\n",
      "1600\n",
      "1700\n",
      "1800\n",
      "1900\n",
      "2000\n",
      "500\n",
      "1000\n",
      "1500\n",
      "2000\n",
      "2500\n"
     ]
    }
   ],
   "source": [
    "import gensim\n",
    "import numpy as np\n",
    "import pandas as pd\n",
    "\n",
    "embedding_dim=500\n",
    "\n",
    "docvec_model = gensim.models.doc2vec.Doc2Vec.load('docvec.model')\n",
    "\n",
    "\n",
    "\n",
    "train_des = pd.DataFrame(pd.np.empty((0, embedding_dim+1)))\n",
    "\n",
    "test_des = pd.DataFrame(pd.np.empty((0, embedding_dim+1)))\n",
    "\n",
    "target_colnames = list()\n",
    "\n",
    "i=0\n",
    "target_colnames.append('f_0')\n",
    "while i<embedding_dim:\n",
    "    colname='t_'+str(i)\n",
    "    target_colnames.append(colname)\n",
    "    i+=1\n",
    "    \n",
    "train_des.columns = target_colnames\n",
    "\n",
    "test_des.columns = target_colnames\n",
    "\n",
    "i=0      \n",
    "while i<2000:\n",
    "    temp_name=str(i)+'.txt'\n",
    "    temp_vec=docvec_model.docvecs['images_test/'+str(i)+'.txt']\n",
    "    rand=[]\n",
    "    rand.append(temp_name)\n",
    "    rand.extend(temp_vec)\n",
    "    test_des.loc[i] = rand\n",
    "    i+=1\n",
    "    if i%100==0:\n",
    "        print(i)\n",
    "\n",
    "\n",
    "i=0\n",
    "while i<10000:\n",
    "    temp_name=str(i)+'.txt'\n",
    "    temp_vec=docvec_model.docvecs['images_train/'+str(i)+'.txt']\n",
    "    rand=[]\n",
    "    rand.append(temp_name)\n",
    "    rand.extend(temp_vec)\n",
    "    train_des.loc[i] = rand\n",
    "    i+=1\n",
    "    if i%500==0:\n",
    "        print(i)\n",
    "\n",
    "train_des = train_des.rename(columns={'f_0': 'description'})\n",
    "test_des = test_des.rename(columns={'f_0': 'description'})"
   ]
  },
  {
   "cell_type": "code",
   "execution_count": null,
   "metadata": {
    "collapsed": true
   },
   "outputs": [],
   "source": [
    "from scipy import spatial\n",
    "tree = spatial.KDTree(train_des.iloc[:,1:].values)\n",
    "query_results=tree.query(test_des.iloc[:,1:].values)\n",
    "test_des_list= test_des.iloc[:,:1].values\n",
    "train_des_list=query_results[1].reshape(2000,1)\n",
    "\n",
    "for i in range(2000):\n",
    "    print(test_des_list[i])\n",
    "    print(train_des_list[i])\n",
    "    print (',,,,')"
   ]
  },
  {
   "cell_type": "code",
   "execution_count": null,
   "metadata": {
    "collapsed": true
   },
   "outputs": [],
   "source": []
  }
 ],
 "metadata": {
  "kernelspec": {
   "display_name": "Python 3",
   "language": "python",
   "name": "python3"
  },
  "language_info": {
   "codemirror_mode": {
    "name": "ipython",
    "version": 3
   },
   "file_extension": ".py",
   "mimetype": "text/x-python",
   "name": "python",
   "nbconvert_exporter": "python",
   "pygments_lexer": "ipython3",
   "version": "3.6.1"
  }
 },
 "nbformat": 4,
 "nbformat_minor": 2
}
